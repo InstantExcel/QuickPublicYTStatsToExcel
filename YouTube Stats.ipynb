{
 "cells": [
  {
   "cell_type": "code",
   "execution_count": 1,
   "metadata": {},
   "outputs": [],
   "source": [
    "import pandas as pd\n",
    "\n",
    " \n",
    "from googleapiclient.discovery import build\n",
    "\n",
    "# PUT YOUR API KEY HERE :\n",
    "\n",
    "k='MyApiKey'\n",
    "youtube =build('youtube','v3',developerKey=k)\n",
    "\n",
    "\n",
    "request = youtube.playlistItems().list(\n",
    "\n",
    "    part='contentDetails',\n",
    "    playlistId='UUxsy0gvj2mmmF8s6RH2MvhQ',\n",
    "    maxResults=50\n",
    ")\n",
    "\n",
    "\n",
    "response=request.execute()\n",
    " \n",
    "\n",
    "df = pd.json_normalize(response,'items')\n",
    "\n",
    "\n",
    "VidList=df['contentDetails.videoId'].tolist()\n",
    "\n",
    "VidListS =\",\".join(VidList)\n",
    "\n",
    "request = youtube.videos().list( \n",
    "    part=\"snippet,contentDetails,statistics\",\n",
    "    id=VidListS,\n",
    "    maxResults=50\n",
    ")\n",
    "response = request.execute()\n",
    " \n",
    "response\n",
    "\n",
    "\n",
    "MyVids = pd.json_normalize(response,'items')\n",
    "\n",
    "\n",
    "# SAVE TO EXCELS\n",
    "\n",
    "MyVids.to_excel(\"MyVideosb.xlsx\",\n",
    "\n",
    "             sheet_name='VideoStats')  \n",
    "\n",
    "    \n",
    "\n",
    "\n",
    "\n",
    "\n",
    "\n",
    "  \n"
   ]
  }
 ],
 "metadata": {
  "kernelspec": {
   "display_name": "Python 3",
   "language": "python",
   "name": "python3"
  },
  "language_info": {
   "codemirror_mode": {
    "name": "ipython",
    "version": 3
   },
   "file_extension": ".py",
   "mimetype": "text/x-python",
   "name": "python",
   "nbconvert_exporter": "python",
   "pygments_lexer": "ipython3",
   "version": "3.8.5"
  }
 },
 "nbformat": 4,
 "nbformat_minor": 4
}
